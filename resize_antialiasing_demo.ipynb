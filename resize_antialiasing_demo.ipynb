{
  "nbformat": 4,
  "nbformat_minor": 0,
  "metadata": {
    "colab": {
      "name": "resize_antialiasing_demo.ipynb",
      "provenance": [],
      "collapsed_sections": [],
      "include_colab_link": true
    },
    "kernelspec": {
      "name": "python3",
      "display_name": "Python 3"
    },
    "language_info": {
      "name": "python"
    }
  },
  "cells": [
    {
      "cell_type": "markdown",
      "metadata": {
        "id": "view-in-github",
        "colab_type": "text"
      },
      "source": [
        "<a href=\"https://colab.research.google.com/github/akieres/COVID-19/blob/master/resize_antialiasing_demo.ipynb\" target=\"_parent\"><img src=\"https://colab.research.google.com/assets/colab-badge.svg\" alt=\"Open In Colab\"/></a>"
      ]
    },
    {
      "cell_type": "code",
      "metadata": {
        "id": "O2bILag-lKs2"
      },
      "source": [
        "import numpy as np\n",
        "import torch\n",
        "import torchvision.transforms.functional as F\n",
        "from torchvision.transforms.functional import InterpolationMode\n",
        "from PIL import Image\n",
        "import tensorflow as tf\n",
        "import cv2\n",
        "import matplotlib.pyplot as plt\n",
        "from skimage import draw"
      ],
      "execution_count": null,
      "outputs": []
    },
    {
      "cell_type": "code",
      "metadata": {
        "colab": {
          "base_uri": "https://localhost:8080/",
          "height": 303
        },
        "id": "9ugZe6lcmKsf",
        "outputId": "6bbcd859-12eb-4c62-8362-d343c38a2971"
      },
      "source": [
        "# create a simple image\n",
        "image = np.ones((128, 128), dtype=np.float)\n",
        "rr, cc = draw.circle_perimeter(64, 64, radius=45, shape=image.shape)\n",
        "image[rr, cc] = 0\n",
        "plt.imshow(image, cmap='gray')\n",
        "print(f\"Unique values of image: {np.unique(arr)}\")\n",
        "print(image.dtype)"
      ],
      "execution_count": null,
      "outputs": [
        {
          "output_type": "stream",
          "text": [
            "Unique values of image: [0. 1.]\n",
            "float64\n"
          ],
          "name": "stdout"
        },
        {
          "output_type": "display_data",
          "data": {
            "image/png": "[encoded data removed]",
            "text/plain": [
              "<Figure size 432x288 with 1 Axes>"
            ]
          },
          "metadata": {
            "tags": [],
            "needs_background": "light"
          }
        }
      ]
    },
    {
      "cell_type": "code",
      "metadata": {
        "id": "9XYw1iZm2tBn"
      },
      "source": [
        "output_size = 17\n",
        "\n",
        "def inspect_img(*, img):\n",
        "    plt.imshow(img, cmap='gray')\n",
        "    print(f\"Unique values of image: {np.unique(img)}\")\n",
        "    print(f\"Image size:{img.shape}, type:{img.dtype}\")\n",
        "    print(f\"Value of pixel with coordinates (14,9): {img[14, 9]}\")"
      ],
      "execution_count": null,
      "outputs": []
    },
    {
      "cell_type": "markdown",
      "metadata": {
        "id": "PgObtlAN27Hw"
      },
      "source": [
        "**PIL**"
      ]
    },
    {
      "cell_type": "code",
      "metadata": {
        "colab": {
          "base_uri": "https://localhost:8080/",
          "height": 617
        },
        "id": "ebmwYkjPnRvp",
        "outputId": "eee34f7f-acdb-4762-d4c4-0557e65a1b94"
      },
      "source": [
        "def resize_PIL(*, img, output_size):\n",
        "    img = Image.fromarray(image)\n",
        "    img = img.resize((output_size, output_size), resample=Image.BICUBIC)\n",
        "    img = np.asarray(img)\n",
        "    inspect_img(img=img)\n",
        "    return img\n",
        "\n",
        "image_PIL = resize_PIL(img=image, output_size=output_size)"
      ],
      "execution_count": null,
      "outputs": [
        {
          "output_type": "stream",
          "text": [
            "Unique values of image: [0.86737263 0.8673727  0.86789775 0.8678978  0.86848116 0.8684812\n",
            " 0.86866796 0.868668   0.87534827 0.8754404  0.87706774 0.8779811\n",
            " 0.8817612  0.888297   0.8911121  0.8939335  0.89835936 0.9075361\n",
            " 0.9122274  0.9174649  0.9206731  0.92465234 0.92945355 0.9329934\n",
            " 0.9329935  0.9367291  0.93843377 0.9521789  0.953724   0.96227986\n",
            " 0.9655739  0.97587633 0.9791388  0.9827626  0.9832467  0.99086547\n",
            " 0.9937731  0.9952382  0.9960673  0.99755865 0.9990072  0.99971837\n",
            " 0.99974865 0.9997499  0.999801   0.9998471  0.99988335 0.99989295\n",
            " 0.9999179  0.99992037 0.9999366  0.99994934 0.9999499  0.9999807\n",
            " 0.999981   0.9999948  0.99999505 0.9999952  0.99999565 0.99999934\n",
            " 1.         1.0000386  1.000055   1.0001318  1.0001361  1.0001363\n",
            " 1.0001637  1.00028    1.0002801  1.0003477  1.000352   1.0009085\n",
            " 1.0012629  1.0014951  1.0016173  1.0020118  1.0020894  1.0021822\n",
            " 1.0028547  1.0028888  1.0037526  1.0039469  1.0045916  1.0046595\n",
            " 1.0048798  1.0051284  1.0059301  1.0064806  1.0064807  1.0070895\n",
            " 1.0071568  1.0072415  1.0072715  1.007602   1.0076998  1.0078748\n",
            " 1.008011   1.0081888  1.0082991  1.0087768  1.0088835  1.0090424\n",
            " 1.0091099  1.0101087 ]\n",
            "Image size:(17, 17), type:float32\n",
            "Value of pixel with coordinates (14,9): 0.8678978085517883\n"
          ],
          "name": "stdout"
        },
        {
          "output_type": "display_data",
          "data": {
            "image/png": "[encoded data removed]",
            "text/plain": [
              "<Figure size 432x288 with 1 Axes>"
            ]
          },
          "metadata": {
            "tags": [],
            "needs_background": "light"
          }
        }
      ]
    },
    {
      "cell_type": "markdown",
      "metadata": {
        "id": "raFbvJF92xXt"
      },
      "source": [
        "**PyTorch**"
      ]
    },
    {
      "cell_type": "code",
      "metadata": {
        "colab": {
          "base_uri": "https://localhost:8080/",
          "height": 406
        },
        "id": "1AH5sZqhliYO",
        "outputId": "740ca3ec-1a31-4940-f0ff-bd017c0540d9"
      },
      "source": [
        "def resize_pytorch(*, img, output_size):\n",
        "    img = F.resize(torch.from_numpy(img).unsqueeze(0), size=output_size, interpolation=InterpolationMode.BICUBIC)\n",
        "    img = img[0, ...].cpu().data.numpy()\n",
        "    inspect_img(img=img)\n",
        "    return img\n",
        "\n",
        "image_pytorch = resize_pytorch(img=image, output_size=output_size)"
      ],
      "execution_count": null,
      "outputs": [
        {
          "output_type": "stream",
          "text": [
            "Unique values of image: [0.19318008 0.64267632 0.64267632 0.652017   0.652017   0.79720425\n",
            " 0.79720425 0.85719447 0.98803224 0.9956679  0.9956679  1.\n",
            " 1.         1.         1.         1.         1.         1.\n",
            " 1.         1.         1.         1.         1.         1.\n",
            " 1.         1.         1.         1.         1.0072451  1.0072451\n",
            " 1.01540794 1.02304373 1.02304373 1.05310528 1.06163413]\n",
            "Image size:(17, 17), type:float64\n",
            "Value of pixel with coordinates (14,9): 0.6520169969853261\n"
          ],
          "name": "stdout"
        },
        {
          "output_type": "display_data",
          "data": {
            "image/png": "[encoded data removed]",
            "text/plain": [
              "<Figure size 432x288 with 1 Axes>"
            ]
          },
          "metadata": {
            "tags": [],
            "needs_background": "light"
          }
        }
      ]
    },
    {
      "cell_type": "markdown",
      "metadata": {
        "id": "eP7Vse4-21K2"
      },
      "source": [
        "**TensorFlow**"
      ]
    },
    {
      "cell_type": "code",
      "metadata": {
        "colab": {
          "base_uri": "https://localhost:8080/",
          "height": 370
        },
        "id": "YNd_ca3KsNx1",
        "outputId": "bc7f7b8d-9fca-4a00-ab60-5c8f43ea578c"
      },
      "source": [
        "def resize_tensorflow(*, img, output_size):\n",
        "    img = img[tf.newaxis, ..., tf.newaxis]\n",
        "    img = tf.image.resize(img, size=[output_size, output_size], method=\"bicubic\")\n",
        "    img = img[0, ..., 0].numpy()\n",
        "    inspect_img(img=img)\n",
        "    return img\n",
        "\n",
        "image_tensorflow = resize_tensorflow(img=image, output_size=output_size)"
      ],
      "execution_count": null,
      "outputs": [
        {
          "output_type": "stream",
          "text": [
            "Unique values of image: [0.2105526  0.680069   0.6800691  0.68654966 0.8380833  0.8380834\n",
            " 0.8860934  0.994684   0.998076   0.9980761  0.9999997  0.99999976\n",
            " 0.9999998  0.9999999  0.99999994 1.         1.0055469  1.0100365\n",
            " 1.0100366  1.0150955  1.0353556  1.0353557  1.0402596 ]\n",
            "Image size:(17, 17), type:float32\n",
            "Value of pixel with coordinates (14,9): 0.6865496635437012\n"
          ],
          "name": "stdout"
        },
        {
          "output_type": "display_data",
          "data": {
            "image/png": "[encoded data removed]",
            "text/plain": [
              "<Figure size 432x288 with 1 Axes>"
            ]
          },
          "metadata": {
            "tags": [],
            "needs_background": "light"
          }
        }
      ]
    },
    {
      "cell_type": "markdown",
      "metadata": {
        "id": "hXNLB8MO232v"
      },
      "source": [
        "**OpenCV**"
      ]
    },
    {
      "cell_type": "code",
      "metadata": {
        "colab": {
          "base_uri": "https://localhost:8080/",
          "height": 353
        },
        "id": "OEsmfXBUxQr6",
        "outputId": "58f6fe9b-c23b-46d6-deb6-0c029beb30fa"
      },
      "source": [
        "def resize_opencv(*, img, output_size):\n",
        "    img = cv2.resize(img, (output_size, output_size), interpolation=cv2.INTER_CUBIC)\n",
        "    inspect_img(img=img)\n",
        "    return img\n",
        "\n",
        "image_opencv = resize_opencv(img=image, output_size=output_size)"
      ],
      "execution_count": null,
      "outputs": [
        {
          "output_type": "stream",
          "text": [
            "Unique values of image: [0.19318295 0.64267278 0.64267528 0.65201321 0.79720571 0.85719495\n",
            " 0.98803226 0.99566787 1.         1.00724495 1.01540753 1.02304393\n",
            " 1.05310535 1.06163413]\n",
            "Image size:(17, 17), type:float64\n",
            "Value of pixel with coordinates (14,9): 0.6520132147719551\n"
          ],
          "name": "stdout"
        },
        {
          "output_type": "display_data",
          "data": {
            "image/png": "[encoded data removed]",
            "text/plain": [
              "<Figure size 432x288 with 1 Axes>"
            ]
          },
          "metadata": {
            "tags": [],
            "needs_background": "light"
          }
        }
      ]
    },
    {
      "cell_type": "code",
      "metadata": {
        "colab": {
          "base_uri": "https://localhost:8080/"
        },
        "id": "sRaLXRmd03-6",
        "outputId": "accd64e4-4c0f-4dfe-8e4b-31f1be6cf240"
      },
      "source": [
        "# Are pixel values equal?\n",
        "print((image_PIL == image_pytorch).all())\n",
        "print((image_PIL == image_tensorflow).all())\n",
        "print((image_PIL == image_opencv).all())\n",
        "print((image_pytorch == image_tensorflow).all())\n",
        "print((image_pytorch == image_opencv).all())\n",
        "print((image_tensorflow == image_opencv).all())"
      ],
      "execution_count": null,
      "outputs": [
        {
          "output_type": "stream",
          "text": [
            "False\n",
            "False\n",
            "False\n",
            "False\n",
            "False\n",
            "False\n"
          ],
          "name": "stdout"
        }
      ]
    },
    {
      "cell_type": "code",
      "metadata": {
        "colab": {
          "base_uri": "https://localhost:8080/"
        },
        "id": "lhH4I_e34dd6",
        "outputId": "4aa93cc2-6b8e-4182-d300-8061231bb3a0"
      },
      "source": [
        "# Are pixel values close?\n",
        "print(np.isclose(image_PIL, image_pytorch).all())\n",
        "print(np.isclose(image_PIL, image_tensorflow).all())\n",
        "print(np.isclose(image_PIL, image_opencv).all())\n",
        "print(np.isclose(image_pytorch, image_tensorflow).all())\n",
        "print(np.isclose(image_pytorch, image_opencv).all())\n",
        "print(np.isclose(image_tensorflow, image_opencv).all())"
      ],
      "execution_count": null,
      "outputs": [
        {
          "output_type": "stream",
          "text": [
            "False\n",
            "False\n",
            "False\n",
            "False\n",
            "False\n",
            "False\n"
          ],
          "name": "stdout"
        }
      ]
    }
  ]
}